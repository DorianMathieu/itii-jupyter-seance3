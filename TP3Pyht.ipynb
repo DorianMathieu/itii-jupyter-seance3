{
 "cells": [
  {
   "cell_type": "code",
   "execution_count": 20,
   "metadata": {},
   "outputs": [
    {
     "name": "stdout",
     "output_type": "stream",
     "text": [
      "c'est monotone sur  [0 1]\n",
      "0.7705078125\n"
     ]
    }
   ],
   "source": [
    "import numpy as np\n",
    "\n",
    "def f(x):\n",
    "    return (x**3)+2*x-2\n",
    "\n",
    "\n",
    "def plot_f(function,interv=[0,1],step=1e-2):\n",
    "    import matplotlib.pyplot as plt\n",
    "    x_list = np.arange(interv[0],interv[1]+step+step)\n",
    "    plt.plot(x.list,f(xlist),linewidth=3)\n",
    "    plt.xlim(interv)\n",
    "    plt.xlabel(\"x\",size=12)\n",
    "    plt.ylabel(\"y\",size=12)\n",
    "    plt.hlines(0,interv[0],interv[1],linestyle='--',linewidth=1)\n",
    "    plt.show()\n",
    "    \n",
    "\n",
    "    \n",
    "\n",
    "a=np.array([0,1])\n",
    "\n",
    "print(\"c'est monotone sur \",a)\n",
    "\n",
    "def racine(N):\n",
    "    import numpy as np\n",
    "    intervalle = [0,1]\n",
    "    compteur=0\n",
    "    while compteur < N:\n",
    "        if f(intervalle[0])*f(intervalle[1])<0:\n",
    "            intervalle =[intervalle[0],(intervalle[0]+intervalle[1])/2,intervalle[1]]\n",
    "        else:\n",
    "            intervalle =[intervalle[1],(intervalle[1]+intervalle[2])/2,intervalle[2]]\n",
    "        compteur=compteur+1\n",
    "    return intervalle[1]\n",
    "        \n",
    "    \n",
    "print(racine(10))\n",
    "\n",
    "\n"
   ]
  },
  {
   "cell_type": "code",
   "execution_count": null,
   "metadata": {},
   "outputs": [],
   "source": [
    "import numpy as np\n",
    "\n",
    "\n",
    "carre_3 =np.array([2,7,6,9,5,1,4,3,8]).reshape(3,3)\n",
    "print(carre_3)\n",
    "carre_4 = np.array([[1,2,3,4],[5,6,7,8],[9,10,11,12],[,13,14,15,16]])\n",
    "\n"
   ]
  }
 ],
 "metadata": {
  "kernelspec": {
   "display_name": "Python 3",
   "language": "python",
   "name": "python3"
  },
  "language_info": {
   "codemirror_mode": {
    "name": "ipython",
    "version": 3
   },
   "file_extension": ".py",
   "mimetype": "text/x-python",
   "name": "python",
   "nbconvert_exporter": "python",
   "pygments_lexer": "ipython3",
   "version": "3.7.6"
  }
 },
 "nbformat": 4,
 "nbformat_minor": 4
}
